{
 "cells": [
  {
   "cell_type": "markdown",
   "metadata": {},
   "source": [
    "# Exercises 1: Getting started with Python\n",
    "\n",
    "## Operators, variables, data types\n",
    "\n",
    "Implement the following variables in Python. Which data types do you expect for the calculated variables? \n",
    "\n",
    "| name       | data type  | value                   |\n",
    "|------------|------------|-------------------------|\n",
    "| weight_kg  | float      | 62.5                    |\n",
    "| weight_lb  |            | weight in kg times 2.20 |\n",
    "| height_cm  | integer    | 165                     |\n",
    "| height_in  |            | height in cm times 0.39 |\n",
    "| patient_id | string     | 001                     |\n",
    "| bmi        | float      | weight in kg divided by height in m squared |\n",
    "\n",
    "| name       | data type  | value                   |\n",
    "|------------|------------|-------------------------|\n",
    "| a          | integer    | 4                       |\n",
    "| b          | integer    | 3                       |\n",
    "| A_circ     | ?          | area of a circle with diameter b |\n",
    "| c          | ?          | third side of a triangle with sides a, b |"
   ]
  },
  {
   "cell_type": "code",
   "execution_count": null,
   "metadata": {},
   "outputs": [],
   "source": [
    "# your code here\n"
   ]
  },
  {
   "cell_type": "markdown",
   "metadata": {},
   "source": [
    "For each numeric variable above, create a string variable that contains a description of the variable and its value."
   ]
  },
  {
   "cell_type": "code",
   "execution_count": 1,
   "metadata": {},
   "outputs": [],
   "source": [
    "# your code here\n"
   ]
  },
  {
   "cell_type": "markdown",
   "metadata": {},
   "source": [
    "## Sequences: Lists and tuples, and dictionaries\n",
    "\n",
    "Which of these data types can store values of different data types? Try it out below"
   ]
  },
  {
   "cell_type": "code",
   "execution_count": 2,
   "metadata": {},
   "outputs": [],
   "source": [
    "# your code here\n"
   ]
  },
  {
   "cell_type": "markdown",
   "metadata": {},
   "source": [
    "Append new items to the variables below"
   ]
  },
  {
   "cell_type": "code",
   "execution_count": 4,
   "metadata": {},
   "outputs": [],
   "source": [
    "l = [1, 2, 3, 4, 5]\n",
    "t = (1, 2, 3, 4, 5)\n",
    "d = {1: \"one\", 2: \"two\", 3: \"three\", 4: \"four\", 5: \"five\"}\n",
    "\n",
    "# your code here\n"
   ]
  },
  {
   "cell_type": "markdown",
   "metadata": {},
   "source": [
    "Store the first value from the list in a variable, and the third value from the tuple in a separate variable"
   ]
  },
  {
   "cell_type": "code",
   "execution_count": 6,
   "metadata": {},
   "outputs": [],
   "source": [
    "# your code here\n"
   ]
  },
  {
   "cell_type": "markdown",
   "metadata": {},
   "source": [
    "Unpack the tuple into separate variables"
   ]
  },
  {
   "cell_type": "code",
   "execution_count": 5,
   "metadata": {},
   "outputs": [],
   "source": [
    "t = (1, 2, 3)\n",
    "\n",
    "# your code here\n"
   ]
  },
  {
   "cell_type": "markdown",
   "metadata": {},
   "source": [
    "Check if the number 2 is an element in the tuple `t`. \n",
    "\n",
    "Hint: Use the `help` function if you're unsure how to do this."
   ]
  },
  {
   "cell_type": "code",
   "execution_count": 10,
   "metadata": {},
   "outputs": [],
   "source": [
    "# your code here\n"
   ]
  },
  {
   "cell_type": "markdown",
   "metadata": {},
   "source": [
    "Slice the list below to get a list that contains all but the first and last elements of the original list"
   ]
  },
  {
   "cell_type": "code",
   "execution_count": 11,
   "metadata": {},
   "outputs": [],
   "source": [
    "l = [1, 2, 3, 4, 5, 6, 7]\n",
    "\n",
    "# your code here\n"
   ]
  },
  {
   "cell_type": "markdown",
   "metadata": {},
   "source": [
    "## Booleans and conditionals\n",
    "\n",
    "Given the two boolean variables"
   ]
  },
  {
   "cell_type": "code",
   "execution_count": 12,
   "metadata": {},
   "outputs": [],
   "source": [
    "A = not (1 < 2)\n",
    "B = 4 / 2 == 2"
   ]
  },
  {
   "cell_type": "markdown",
   "metadata": {},
   "source": [
    "determine (without code) the truth value of the following statements:\n",
    "\n",
    "| boolean expression               | truth value |\n",
    "|----------------------------------|-------------|\n",
    "| `A and B`                        |      ?      |\n",
    "| `A or B`                         |      ?      |\n",
    "| `not A`                          |      ?      |\n",
    "| `not B or (B or A)`              |      ?      |\n",
    "| `(A and not B) or (not B and A)` |      ?      | \n",
    "\n",
    "**Equality between differnt data types** Test the following statements. Do the results match your expectations? Why / why not?\n",
    "\n",
    "| boolean expression | truth value |\n",
    "|--------------------|-------------|\n",
    "| `3 == 3.0`         |      ?      |\n",
    "| `3 == '3'`         |      ?      |\n",
    "| `'3' == '3'`       |      ?      |"
   ]
  },
  {
   "cell_type": "code",
   "execution_count": 17,
   "metadata": {},
   "outputs": [
    {
     "data": {
      "text/plain": [
       "True"
      ]
     },
     "execution_count": 17,
     "metadata": {},
     "output_type": "execute_result"
    }
   ],
   "source": [
    "'3' == '3'"
   ]
  },
  {
   "cell_type": "markdown",
   "metadata": {},
   "source": [
    "**Comparing strings** What are the results of\n",
    "\n",
    "- `'a' < 'f'`\n",
    "- `'l' > 'k'`\n",
    "- `'foo' < 'bar'`\n",
    "- `'aaab' > 'aa'`\n",
    "\n",
    "Do they meet your expectations?"
   ]
  },
  {
   "cell_type": "markdown",
   "metadata": {},
   "source": []
  }
 ],
 "metadata": {
  "kernelspec": {
   "display_name": "Python 3.10.6 ('intro-python')",
   "language": "python",
   "name": "python3"
  },
  "language_info": {
   "codemirror_mode": {
    "name": "ipython",
    "version": 3
   },
   "file_extension": ".py",
   "mimetype": "text/x-python",
   "name": "python",
   "nbconvert_exporter": "python",
   "pygments_lexer": "ipython3",
   "version": "3.10.6"
  },
  "orig_nbformat": 4,
  "vscode": {
   "interpreter": {
    "hash": "e34e82e6dc35f2318ac3d3e20aaf334fd1a8e5da8a0a25ed4f969628ee63fd2f"
   }
  }
 },
 "nbformat": 4,
 "nbformat_minor": 2
}
