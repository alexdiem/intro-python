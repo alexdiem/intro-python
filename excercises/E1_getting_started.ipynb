{
 "cells": [
  {
   "cell_type": "markdown",
   "metadata": {},
   "source": [
    "# Exercises 1: Getting started with Python\n",
    "\n",
    "## Operators, variables, data types\n",
    "\n",
    "### Operators and variables\n",
    "\n",
    "Implement the following variables in Python. Which data types do you expect for the calculated variables? \n",
    "\n",
    "| name       | data type  | value                   |\n",
    "|------------|------------|-------------------------|\n",
    "| weight_kg  | float      | 62.5                    |\n",
    "| weight_lb  |            | weight in kg times 2.20 |\n",
    "| height_cm  | integer    | 165                     |\n",
    "| height_in  |            | height in cm times 0.39 |\n",
    "| patient_id | string     | 001                     |\n",
    "| bmi        | float      | weight in kg divided by height in m squared |\n",
    "\n",
    "| name       | data type  | value                   |\n",
    "|------------|------------|-------------------------|\n",
    "| a          | integer    | 4                       |\n",
    "| b          | integer    | 3                       |\n",
    "| A_circ     | ?          | area of a circle with diameter b |\n",
    "| c          | ?          | third side of a triangle with sides a, b |"
   ]
  },
  {
   "cell_type": "code",
   "execution_count": null,
   "metadata": {},
   "outputs": [],
   "source": [
    "# your code here\n"
   ]
  },
  {
   "cell_type": "markdown",
   "metadata": {},
   "source": []
  }
 ],
 "metadata": {
  "kernelspec": {
   "display_name": "Python 3.8.10 64-bit",
   "language": "python",
   "name": "python3"
  },
  "language_info": {
   "name": "python",
   "version": "3.8.10"
  },
  "orig_nbformat": 4,
  "vscode": {
   "interpreter": {
    "hash": "916dbcbb3f70747c44a77c7bcd40155683ae19c65e1c03b4aa3499c5328201f1"
   }
  }
 },
 "nbformat": 4,
 "nbformat_minor": 2
}
