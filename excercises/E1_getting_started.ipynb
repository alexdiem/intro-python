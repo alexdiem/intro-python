{
 "cells": [
  {
   "cell_type": "markdown",
   "metadata": {},
   "source": [
    "# Exercises 1: Getting started with Python\n",
    "\n",
    "## Operators, variables, data types\n",
    "\n",
    "### Operators and variables\n",
    "\n",
    "Implement the following variables in Python. Which data types do you expect for the calculated variables? \n",
    "\n",
    "| name       | data type  | value                   |\n",
    "|------------|------------|-------------------------|\n",
    "| weight_kg  | float      | 62.5                    |\n",
    "| weight_lb  |            | weight in kg times 2.20 |\n",
    "| height_cm  | integer    | 165                     |\n",
    "| height_in  |            | height in cm times 0.39 |\n",
    "| patient_id | string     | 001                     |\n",
    "| bmi        | float      | weight in kg divided by height in m squared |\n",
    "\n",
    "| name       | data type  | value                   |\n",
    "|------------|------------|-------------------------|\n",
    "| a          | integer    | 4                       |\n",
    "| b          | integer    | 3                       |\n",
    "| A_circ     | ?          | area of a circle with diameter b |\n",
    "| c          | ?          | third side of a triangle with sides a, b |"
   ]
  },
  {
   "cell_type": "code",
   "execution_count": null,
   "metadata": {},
   "outputs": [],
   "source": [
    "# your code here\n"
   ]
  },
  {
   "cell_type": "markdown",
   "metadata": {},
   "source": [
    "For each numeric variable above, create a string variable that contains a description of the variable and its value."
   ]
  },
  {
   "cell_type": "code",
   "execution_count": 1,
   "metadata": {},
   "outputs": [],
   "source": [
    "# your code here"
   ]
  },
  {
   "cell_type": "markdown",
   "metadata": {},
   "source": []
  },
  {
   "cell_type": "markdown",
   "metadata": {},
   "source": []
  }
 ],
 "metadata": {
  "kernelspec": {
   "display_name": "Python 3.10.6 ('intro-python')",
   "language": "python",
   "name": "python3"
  },
  "language_info": {
   "codemirror_mode": {
    "name": "ipython",
    "version": 3
   },
   "file_extension": ".py",
   "mimetype": "text/x-python",
   "name": "python",
   "nbconvert_exporter": "python",
   "pygments_lexer": "ipython3",
   "version": "3.10.6"
  },
  "orig_nbformat": 4,
  "vscode": {
   "interpreter": {
    "hash": "e34e82e6dc35f2318ac3d3e20aaf334fd1a8e5da8a0a25ed4f969628ee63fd2f"
   }
  }
 },
 "nbformat": 4,
 "nbformat_minor": 2
}
