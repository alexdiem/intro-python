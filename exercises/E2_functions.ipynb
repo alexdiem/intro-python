{
 "cells": [
  {
   "cell_type": "markdown",
   "metadata": {},
   "source": [
    "# Exercises 2: Working with functions\n",
    "\n",
    "Write a function `reverse_string` that reverses a string"
   ]
  },
  {
   "cell_type": "code",
   "execution_count": null,
   "metadata": {},
   "outputs": [],
   "source": [
    "# your code here\n"
   ]
  },
  {
   "cell_type": "markdown",
   "metadata": {},
   "source": [
    "Write a function `in_range` to check whether a number falls within a given range"
   ]
  },
  {
   "cell_type": "code",
   "execution_count": null,
   "metadata": {},
   "outputs": [],
   "source": [
    "# your code here\n"
   ]
  },
  {
   "cell_type": "markdown",
   "metadata": {},
   "source": [
    "Write a function `primes` that returns a list of prime numbers from a list of numbers.\n",
    "\n",
    "Example argument: `[1, 2, 3, 4, 5, 6, 7, 8, 9, 10]`\n",
    "\n",
    "Expected output: `[1, 3, 5, 7]`"
   ]
  },
  {
   "cell_type": "code",
   "execution_count": null,
   "metadata": {},
   "outputs": [],
   "source": [
    "# your code here\n"
   ]
  },
  {
   "cell_type": "markdown",
   "metadata": {},
   "source": [
    "Write a function `is_palindrome` that checks whether a passed string is a palindrome. A palindrome is a word, phrase, or sequence that reads the same backwards as forwards. Examples: \"madam\", \"rotator\", \"Was it a car or a cat I saw\""
   ]
  },
  {
   "cell_type": "code",
   "execution_count": null,
   "metadata": {},
   "outputs": [],
   "source": [
    "# your code here\n"
   ]
  },
  {
   "cell_type": "markdown",
   "metadata": {},
   "source": [
    "Write a function `power` that calcualtes the power of `base` to the `exponent`, where `exponent` is an optional argument that defaults to the number 2."
   ]
  },
  {
   "cell_type": "code",
   "execution_count": null,
   "metadata": {},
   "outputs": [],
   "source": [
    "# your code here\n"
   ]
  },
  {
   "cell_type": "markdown",
   "metadata": {},
   "source": [
    "Write a function `max_val` to find the maximum amongst an arbitrary set of numbers"
   ]
  },
  {
   "cell_type": "code",
   "execution_count": null,
   "metadata": {},
   "outputs": [],
   "source": [
    "# your code here\n"
   ]
  },
  {
   "cell_type": "markdown",
   "metadata": {},
   "source": [
    "Write a function `master_yoda` that returns a sentence with the words reversed, e.g. `master_yoda(\"I am home\")` returns \"home am I\"\n",
    "\n",
    "**Hint:** `'This is a sentence'.split()` returns a list `['This', 'is', 'a', 'sentence']`"
   ]
  },
  {
   "cell_type": "code",
   "execution_count": 1,
   "metadata": {},
   "outputs": [],
   "source": [
    "# your code here\n"
   ]
  },
  {
   "cell_type": "markdown",
   "metadata": {},
   "source": [
    "Write a function `get_trick` that takes a string representation of an arbitrary number of a standard 52-deck playing cards and returns the card that takes the trick."
   ]
  },
  {
   "cell_type": "code",
   "execution_count": null,
   "metadata": {},
   "outputs": [],
   "source": []
  },
  {
   "cell_type": "markdown",
   "metadata": {},
   "source": [
    "Write a function `keyword_arguments_to_table` that takes an arbitrary number of keyword arguments and prints them in a markdown table.\n",
    "\n",
    "Markdown table syntax:\n",
    "\n",
    "```\n",
    "| key | value |\n",
    "|----|----|\n",
    "| argument name | argument value |\n",
    "| argument name | argument value |\n",
    "| argument name | argument value |\n",
    "```"
   ]
  },
  {
   "cell_type": "code",
   "execution_count": null,
   "metadata": {},
   "outputs": [],
   "source": [
    "# your code here\n"
   ]
  },
  {
   "cell_type": "markdown",
   "metadata": {},
   "source": [
    "Write a function `trapezoidal_rule` that calculates the area under a given curve for given limits `a` and `b` based on the trapezoidal rule:\n",
    "\n",
    "Area = $(h/2) [y_0 + 2 (y_1 + y_2 + y_3 + ..... + y_{n-1}) + y_n]$\n",
    "\n",
    "where $h$ is the width of the intervals and $y_0, ..., y_{n-1}$ are the function values at intervals with distance $h$"
   ]
  },
  {
   "cell_type": "code",
   "execution_count": null,
   "metadata": {},
   "outputs": [],
   "source": [
    "# your code here\n"
   ]
  },
  {
   "cell_type": "markdown",
   "metadata": {},
   "source": [
    "Write a function `arithmetic` that takes an arbitrary number of arguments in addition to an arbitrary number of keyword arguments. The arguments are numbers that arithmetic operations are performed on. The keyword arguments should be named `first`, `second`, `third` and should hold a string each that corresponds to one of the arithmetic operations \"add\", \"subtract\", \"divide\", \"mulitply\". The arguments are treated as pairs that the first operation is performed on. The results are treated as pairs that the second operation is performed on, and their results are treated as pairs that the third operation is performed on. If there is an odd number of numbers the last one should be carried over to the next level. Finally, if after the third operation more than one number is left over, they should be added up. Once only one number is left over it is returned.\n",
    "\n",
    "For example for `arithmetic(2, 3, 5, 2, first='subtract', second='mulitiply')` we return [(2-3) * (5-2)], for `arithmetic(2, 3, 5, 2, 4, 1, first='subtract', second='mulitiply')` we return {[(2-3) * (5-2)] + (4-1)}"
   ]
  },
  {
   "cell_type": "markdown",
   "metadata": {},
   "source": [
    "# your code here\n"
   ]
  }
 ],
 "metadata": {
  "kernelspec": {
   "display_name": "Python 3.10.6 ('intro-python')",
   "language": "python",
   "name": "python3"
  },
  "language_info": {
   "codemirror_mode": {
    "name": "ipython",
    "version": 3
   },
   "file_extension": ".py",
   "mimetype": "text/x-python",
   "name": "python",
   "nbconvert_exporter": "python",
   "pygments_lexer": "ipython3",
   "version": "3.10.6"
  },
  "orig_nbformat": 4,
  "vscode": {
   "interpreter": {
    "hash": "e34e82e6dc35f2318ac3d3e20aaf334fd1a8e5da8a0a25ed4f969628ee63fd2f"
   }
  }
 },
 "nbformat": 4,
 "nbformat_minor": 2
}
